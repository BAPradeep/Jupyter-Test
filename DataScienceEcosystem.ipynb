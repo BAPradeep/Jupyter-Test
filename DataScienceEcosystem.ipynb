{
 "cells": [
  {
   "cell_type": "markdown",
   "id": "069c37b6-5780-4215-8f14-ed7c6ad3e7a7",
   "metadata": {},
   "source": [
    "## Data Science Tools and Ecosystem"
   ]
  },
  {
   "cell_type": "markdown",
   "id": "ec21eccf-205c-4c60-90e1-bb9175739a93",
   "metadata": {},
   "source": [
    "##### In this Notebook, Data Science Tools and Ecosystem are summarized."
   ]
  },
  {
   "cell_type": "markdown",
   "id": "a816cd89-5b38-4234-9598-5d4e6ece85cb",
   "metadata": {
    "tags": []
   },
   "source": [
    "##### Some of the popular language that Data Scientist use are:\n",
    "1. MySQL\n",
    "2. MongoDB\n",
    "3. CouchDB\n",
    "4. Apache AirFlow\n",
    "5. Apache SparkSQL\n",
    "6. TensorFlow\n",
    "7. DataBase\n",
    "8. JAV"
   ]
  },
  {
   "cell_type": "markdown",
   "id": "9830e9da-51f9-4191-b8bb-06e00a85e931",
   "metadata": {},
   "source": [
    "##### some of the commonly usde libraris used by Data Science Include:\n",
    "1. matplotlib\n",
    "2. numpy\n",
    "3. panda\n",
    "4. caret\n",
    "5. ggplot\n",
    "6. ggtitle"
   ]
  },
  {
   "cell_type": "markdown",
   "id": "d47e9ca0-4010-4d64-b0a5-02bd88f68561",
   "metadata": {},
   "source": [
    "| Data Science Tools |\n",
    "| ------------------ |\n",
    "|  R studio          |\n",
    "|  Tablura           |\n",
    "|  PostgreSQL        |\n",
    "|  MongoDB           |"
   ]
  },
  {
   "cell_type": "markdown",
   "id": "4ddbb701-26ac-4858-9a44-5f36cf462880",
   "metadata": {},
   "source": [
    "### Below are a few example of evaluating arithmetic expressions in Python"
   ]
  },
  {
   "cell_type": "code",
   "execution_count": 5,
   "id": "b0e00a20-9cdb-45cd-94c6-980d07606531",
   "metadata": {},
   "outputs": [
    {
     "data": {
      "text/plain": [
       "17"
      ]
     },
     "execution_count": 8,
     "metadata": {},
     "output_type": "execute_result"
    }
   ],
   "source": [
    "#this a simple arithmetic expression to mutiply then add integers\n",
    "(3*4)+5"
   ]
  },
  {
   "cell_type": "code",
   "execution_count": 9,
   "id": "9c36030c-66f7-4bc6-aecb-df42dfb77fa3",
   "metadata": {},
   "outputs": [
    {
     "data": {
      "text/plain": [
       "3.3333333333333335"
      ]
     },
     "execution_count": 9,
     "metadata": {},
     "output_type": "execute_result"
    }
   ],
   "source": [
    "# This will convert 200 mintes to hours by diving by 60\n",
    "200/60"
   ]
  },
  {
   "cell_type": "markdown",
   "id": "b468ff19-7eca-4c1e-aec6-f53a2ae93e45",
   "metadata": {
    "tags": []
   },
   "source": [
    "### Objectives \n",
    "### List popular language for data science \n",
    "* Java\n",
    "* Python\n",
    "* C++"
   ]
  },
  {
   "cell_type": "markdown",
   "id": "f9b5f92f-c585-41e7-ad69-410046da9617",
   "metadata": {},
   "source": [
    "## Author"
   ]
  },
  {
   "cell_type": "markdown",
   "id": "ca5b9850-4195-4f2e-96e2-3ad7606b3f9a",
   "metadata": {},
   "source": [
    "Pradeep B A"
   ]
  },
  {
   "cell_type": "code",
   "execution_count": null,
   "id": "548fef39-26c3-48e6-b078-e3345545ceff",
   "metadata": {},
   "outputs": [],
   "source": []
  }
 ],
 "metadata": {
  "kernelspec": {
   "display_name": "Python 3 (ipykernel)",
   "language": "python",
   "name": "python3"
  },
  "language_info": {
   "codemirror_mode": {
    "name": "ipython",
    "version": 3
   },
   "file_extension": ".py",
   "mimetype": "text/x-python",
   "name": "python",
   "nbconvert_exporter": "python",
   "pygments_lexer": "ipython3",
   "version": "3.10.9"
  }
 },
 "nbformat": 4,
 "nbformat_minor": 5
}
